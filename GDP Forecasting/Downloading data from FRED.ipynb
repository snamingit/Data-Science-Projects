{
 "cells": [
  {
   "cell_type": "code",
   "execution_count": null,
   "id": "4b773d36-2ede-47f4-bf39-22a1e36d45b5",
   "metadata": {},
   "outputs": [
    {
     "name": "stdout",
     "output_type": "stream",
     "text": [
      "Requirement already satisfied: fredapi in c:\\users\\shery\\appdata\\roaming\\python\\python38\\site-packages (0.5.1)\n",
      "Requirement already satisfied: pandas in c:\\users\\shery\\anaconda3\\lib\\site-packages (from fredapi) (1.5.3)\n",
      "Requirement already satisfied: python-dateutil>=2.8.1 in c:\\users\\shery\\anaconda3\\lib\\site-packages (from pandas->fredapi) (2.8.2)\n",
      "Requirement already satisfied: pytz>=2020.1 in c:\\users\\shery\\anaconda3\\lib\\site-packages (from pandas->fredapi) (2023.3)\n",
      "Requirement already satisfied: numpy>=1.20.3 in c:\\users\\shery\\appdata\\roaming\\python\\python38\\site-packages (from pandas->fredapi) (1.24.4)\n",
      "Requirement already satisfied: six>=1.5 in c:\\users\\shery\\anaconda3\\lib\\site-packages (from python-dateutil>=2.8.1->pandas->fredapi) (1.16.0)\n"
     ]
    }
   ],
   "source": [
    "!pip install fredapi --user"
   ]
  },
  {
   "cell_type": "code",
   "execution_count": null,
   "id": "ebc69f5a-ac73-45c8-8c6f-2ddfed4d1298",
   "metadata": {},
   "outputs": [],
   "source": [
    "import os"
   ]
  },
  {
   "cell_type": "code",
   "execution_count": null,
   "id": "1817f00e-62c2-4a28-a7e1-0ae197302012",
   "metadata": {},
   "outputs": [],
   "source": [
    "os.chdir('C:/Users/shery/OneDrive/Desktop/Anaconda/fred')"
   ]
  },
  {
   "cell_type": "code",
   "execution_count": 6,
   "id": "0bcdd806-110f-4e2c-ae5b-e31588ce2190",
   "metadata": {},
   "outputs": [],
   "source": [
    "import fredapi as fa\n",
    "import pandas as pd\n",
    "from config import fred as settings\n",
    "fred = fa.Fred(settings['api_key'])\n",
    "import datetime\n",
    "from datetime import timedelta\n"
   ]
  },
  {
   "cell_type": "code",
   "execution_count": 20,
   "id": "8d450a8a-ff5e-4463-9508-2b5b02ee09e3",
   "metadata": {},
   "outputs": [],
   "source": [
    "#list of quarterly, monthly, & daily series\n",
    "q_series = [('gdp','GDP')] \n",
    "m_series = [('capacity_manuf','MCUMFN'),('cpi','CPIAUCSL'),('unemp','UNRATE'),('leadin_ind','USALOLITONOSTSAM')]\n",
    "d_series = [('fed_funds_rate','DFF'),('tbill_3','DTB3'),('tbill_6','DTB6')]\n",
    "all_series = [item for sublist in [q_series, m_series, d_series] for item in sublist]\n"
   ]
  },
  {
   "cell_type": "code",
   "execution_count": 57,
   "id": "67244633-6b12-4c85-a1cd-011588a0ec6e",
   "metadata": {},
   "outputs": [
    {
     "data": {
      "text/plain": [
       "['GDP', '1947-01-01', '2023-04-01']"
      ]
     },
     "execution_count": 57,
     "metadata": {},
     "output_type": "execute_result"
    }
   ],
   "source": [
    "\n"
   ]
  },
  {
   "cell_type": "code",
   "execution_count": null,
   "id": "88c50e11-bb03-4158-9b14-ea173e419ced",
   "metadata": {},
   "outputs": [],
   "source": []
  },
  {
   "cell_type": "code",
   "execution_count": 66,
   "id": "c963eea5-a143-48cc-b0e6-f42ff4c612ae",
   "metadata": {},
   "outputs": [
    {
     "data": {
      "text/html": [
       "<div>\n",
       "<style scoped>\n",
       "    .dataframe tbody tr th:only-of-type {\n",
       "        vertical-align: middle;\n",
       "    }\n",
       "\n",
       "    .dataframe tbody tr th {\n",
       "        vertical-align: top;\n",
       "    }\n",
       "\n",
       "    .dataframe thead th {\n",
       "        text-align: right;\n",
       "    }\n",
       "</style>\n",
       "<table border=\"1\" class=\"dataframe\">\n",
       "  <thead>\n",
       "    <tr style=\"text-align: right;\">\n",
       "      <th></th>\n",
       "      <th>Variable</th>\n",
       "      <th>Start</th>\n",
       "      <th>End</th>\n",
       "    </tr>\n",
       "  </thead>\n",
       "  <tbody>\n",
       "    <tr>\n",
       "      <th>0</th>\n",
       "      <td>gdp</td>\n",
       "      <td>1947-01-01</td>\n",
       "      <td>2023-04-01</td>\n",
       "    </tr>\n",
       "    <tr>\n",
       "      <th>2</th>\n",
       "      <td>cpi</td>\n",
       "      <td>1947-01-01</td>\n",
       "      <td>2023-08-01</td>\n",
       "    </tr>\n",
       "    <tr>\n",
       "      <th>3</th>\n",
       "      <td>unemp</td>\n",
       "      <td>1948-01-01</td>\n",
       "      <td>2023-08-01</td>\n",
       "    </tr>\n",
       "    <tr>\n",
       "      <th>6</th>\n",
       "      <td>tbill_3</td>\n",
       "      <td>1954-01-04</td>\n",
       "      <td>2023-09-19</td>\n",
       "    </tr>\n",
       "    <tr>\n",
       "      <th>5</th>\n",
       "      <td>fed_funds_rate</td>\n",
       "      <td>1954-07-01</td>\n",
       "      <td>2023-09-19</td>\n",
       "    </tr>\n",
       "    <tr>\n",
       "      <th>7</th>\n",
       "      <td>tbill_6</td>\n",
       "      <td>1958-12-09</td>\n",
       "      <td>2023-09-19</td>\n",
       "    </tr>\n",
       "    <tr>\n",
       "      <th>4</th>\n",
       "      <td>leadin_ind</td>\n",
       "      <td>1960-01-01</td>\n",
       "      <td>2023-08-01</td>\n",
       "    </tr>\n",
       "    <tr>\n",
       "      <th>1</th>\n",
       "      <td>capacity_manuf</td>\n",
       "      <td>1972-01-01</td>\n",
       "      <td>2023-08-01</td>\n",
       "    </tr>\n",
       "  </tbody>\n",
       "</table>\n",
       "</div>"
      ],
      "text/plain": [
       "         Variable       Start         End\n",
       "0             gdp  1947-01-01  2023-04-01\n",
       "2             cpi  1947-01-01  2023-08-01\n",
       "3           unemp  1948-01-01  2023-08-01\n",
       "6         tbill_3  1954-01-04  2023-09-19\n",
       "5  fed_funds_rate  1954-07-01  2023-09-19\n",
       "7         tbill_6  1958-12-09  2023-09-19\n",
       "4      leadin_ind  1960-01-01  2023-08-01\n",
       "1  capacity_manuf  1972-01-01  2023-08-01"
      ]
     },
     "execution_count": 66,
     "metadata": {},
     "output_type": "execute_result"
    }
   ],
   "source": [
    "#Get the starting and end of series\n",
    "date_df =[]\n",
    "\n",
    "for varname, var in all_series:\n",
    "    x= fred.search(var).observation_start\n",
    "    x= x[var].strftime(\"%Y-%m-%d\")\n",
    "    y= fred.search(var).observation_end\n",
    "    y= y[var].strftime(\"%Y-%m-%d\")\n",
    "    #list=[varname,x,y]\n",
    "    #date_df.append(list)\n",
    "    date_df.append({'Variable': varname, 'Start': x, 'End': y})\n",
    "\n",
    "\n",
    "date_df = pd.DataFrame(date_df)\n",
    "date_df.sort_values(by='Start')"
   ]
  },
  {
   "cell_type": "code",
   "execution_count": null,
   "id": "8acb832b-e1ea-4a76-8d8e-77e618540b8b",
   "metadata": {},
   "outputs": [],
   "source": []
  },
  {
   "cell_type": "markdown",
   "id": "fa0a3286-2978-4816-b828-15ed183d0d65",
   "metadata": {},
   "source": [
    "Get all the quarterly series"
   ]
  },
  {
   "cell_type": "code",
   "execution_count": 105,
   "id": "39b55044-4c90-4614-a9fc-4d0c0166e50b",
   "metadata": {},
   "outputs": [],
   "source": [
    "from datetime import timedelta\n",
    "q_df =[]\n",
    "\n",
    "for varname, var in q_series:\n",
    "    x = fred.get_series(var)\n",
    "    x.name = varname\n",
    "    x = pd.DataFrame(x)\n",
    "    q_df.append(x)\n",
    "\n",
    "q_df = pd.concat(q_df, axis=1)\n",
    "q_df.index = q_df.index - timedelta(days=1)\n",
    "q_df['quarter'] = q_df.index.quarter\n",
    "q_df['year'] = q_df.index.year\n",
    "q_df['q_year'] = q_df['quarter'].astype(str) +'_'+ q_df['year'].astype(str)\n",
    "q_df.set_index('q_year', inplace=True)"
   ]
  },
  {
   "cell_type": "code",
   "execution_count": 106,
   "id": "c873adc2-06ba-43dc-bcb9-72b0d1e86ac0",
   "metadata": {},
   "outputs": [
    {
     "data": {
      "text/html": [
       "<div>\n",
       "<style scoped>\n",
       "    .dataframe tbody tr th:only-of-type {\n",
       "        vertical-align: middle;\n",
       "    }\n",
       "\n",
       "    .dataframe tbody tr th {\n",
       "        vertical-align: top;\n",
       "    }\n",
       "\n",
       "    .dataframe thead th {\n",
       "        text-align: right;\n",
       "    }\n",
       "</style>\n",
       "<table border=\"1\" class=\"dataframe\">\n",
       "  <thead>\n",
       "    <tr style=\"text-align: right;\">\n",
       "      <th></th>\n",
       "      <th>gdp</th>\n",
       "      <th>quarter</th>\n",
       "      <th>year</th>\n",
       "    </tr>\n",
       "    <tr>\n",
       "      <th>q_year</th>\n",
       "      <th></th>\n",
       "      <th></th>\n",
       "      <th></th>\n",
       "    </tr>\n",
       "  </thead>\n",
       "  <tbody>\n",
       "    <tr>\n",
       "      <th>1_2022</th>\n",
       "      <td>25248.476</td>\n",
       "      <td>1</td>\n",
       "      <td>2022</td>\n",
       "    </tr>\n",
       "    <tr>\n",
       "      <th>2_2022</th>\n",
       "      <td>25723.941</td>\n",
       "      <td>2</td>\n",
       "      <td>2022</td>\n",
       "    </tr>\n",
       "    <tr>\n",
       "      <th>3_2022</th>\n",
       "      <td>26137.992</td>\n",
       "      <td>3</td>\n",
       "      <td>2022</td>\n",
       "    </tr>\n",
       "    <tr>\n",
       "      <th>4_2022</th>\n",
       "      <td>26529.774</td>\n",
       "      <td>4</td>\n",
       "      <td>2022</td>\n",
       "    </tr>\n",
       "    <tr>\n",
       "      <th>1_2023</th>\n",
       "      <td>26798.605</td>\n",
       "      <td>1</td>\n",
       "      <td>2023</td>\n",
       "    </tr>\n",
       "  </tbody>\n",
       "</table>\n",
       "</div>"
      ],
      "text/plain": [
       "              gdp  quarter  year\n",
       "q_year                          \n",
       "1_2022  25248.476        1  2022\n",
       "2_2022  25723.941        2  2022\n",
       "3_2022  26137.992        3  2022\n",
       "4_2022  26529.774        4  2022\n",
       "1_2023  26798.605        1  2023"
      ]
     },
     "execution_count": 106,
     "metadata": {},
     "output_type": "execute_result"
    }
   ],
   "source": [
    "q_df.tail()"
   ]
  },
  {
   "cell_type": "markdown",
   "id": "b913f798-d8ef-4f94-a3be-656fb9171414",
   "metadata": {},
   "source": [
    "Get all the monthly series"
   ]
  },
  {
   "cell_type": "code",
   "execution_count": 88,
   "id": "44ba8025-df09-4889-97a7-ec74462717d8",
   "metadata": {},
   "outputs": [],
   "source": [
    "m_df =[]\n",
    "\n",
    "for varname, var in m_series:\n",
    "    x = fred.get_series(var)\n",
    "    x.name = varname\n",
    "    x = pd.DataFrame(x)\n",
    "    m_df.append(x)\n",
    "\n",
    "m_df = pd.concat(m_df, axis=1)\n",
    "m_df['quarter'] = m_df.index.quarter\n",
    "m_df['year'] = m_df.index.year\n",
    "m_df['q_year'] = m_df['quarter'].astype(str) +'_'+ m_df['year'].astype(str)\n"
   ]
  },
  {
   "cell_type": "code",
   "execution_count": 89,
   "id": "81115728-e263-4685-bb9e-86e50819273a",
   "metadata": {
    "scrolled": true
   },
   "outputs": [
    {
     "data": {
      "text/html": [
       "<div>\n",
       "<style scoped>\n",
       "    .dataframe tbody tr th:only-of-type {\n",
       "        vertical-align: middle;\n",
       "    }\n",
       "\n",
       "    .dataframe tbody tr th {\n",
       "        vertical-align: top;\n",
       "    }\n",
       "\n",
       "    .dataframe thead th {\n",
       "        text-align: right;\n",
       "    }\n",
       "</style>\n",
       "<table border=\"1\" class=\"dataframe\">\n",
       "  <thead>\n",
       "    <tr style=\"text-align: right;\">\n",
       "      <th></th>\n",
       "      <th>capacity_manuf</th>\n",
       "      <th>cpi</th>\n",
       "      <th>unemp</th>\n",
       "      <th>leadin_ind</th>\n",
       "      <th>quarter</th>\n",
       "      <th>year</th>\n",
       "      <th>q_year</th>\n",
       "    </tr>\n",
       "  </thead>\n",
       "  <tbody>\n",
       "    <tr>\n",
       "      <th>1947-01-01</th>\n",
       "      <td>NaN</td>\n",
       "      <td>21.480</td>\n",
       "      <td>NaN</td>\n",
       "      <td>NaN</td>\n",
       "      <td>1</td>\n",
       "      <td>1947</td>\n",
       "      <td>1_1947</td>\n",
       "    </tr>\n",
       "    <tr>\n",
       "      <th>1947-02-01</th>\n",
       "      <td>NaN</td>\n",
       "      <td>21.620</td>\n",
       "      <td>NaN</td>\n",
       "      <td>NaN</td>\n",
       "      <td>1</td>\n",
       "      <td>1947</td>\n",
       "      <td>1_1947</td>\n",
       "    </tr>\n",
       "    <tr>\n",
       "      <th>1947-03-01</th>\n",
       "      <td>NaN</td>\n",
       "      <td>22.000</td>\n",
       "      <td>NaN</td>\n",
       "      <td>NaN</td>\n",
       "      <td>1</td>\n",
       "      <td>1947</td>\n",
       "      <td>1_1947</td>\n",
       "    </tr>\n",
       "    <tr>\n",
       "      <th>1947-04-01</th>\n",
       "      <td>NaN</td>\n",
       "      <td>22.000</td>\n",
       "      <td>NaN</td>\n",
       "      <td>NaN</td>\n",
       "      <td>2</td>\n",
       "      <td>1947</td>\n",
       "      <td>2_1947</td>\n",
       "    </tr>\n",
       "    <tr>\n",
       "      <th>1947-05-01</th>\n",
       "      <td>NaN</td>\n",
       "      <td>21.950</td>\n",
       "      <td>NaN</td>\n",
       "      <td>NaN</td>\n",
       "      <td>2</td>\n",
       "      <td>1947</td>\n",
       "      <td>2_1947</td>\n",
       "    </tr>\n",
       "    <tr>\n",
       "      <th>...</th>\n",
       "      <td>...</td>\n",
       "      <td>...</td>\n",
       "      <td>...</td>\n",
       "      <td>...</td>\n",
       "      <td>...</td>\n",
       "      <td>...</td>\n",
       "      <td>...</td>\n",
       "    </tr>\n",
       "    <tr>\n",
       "      <th>2023-04-01</th>\n",
       "      <td>78.4065</td>\n",
       "      <td>302.918</td>\n",
       "      <td>3.4</td>\n",
       "      <td>99.016121</td>\n",
       "      <td>2</td>\n",
       "      <td>2023</td>\n",
       "      <td>2_2023</td>\n",
       "    </tr>\n",
       "    <tr>\n",
       "      <th>2023-05-01</th>\n",
       "      <td>78.1317</td>\n",
       "      <td>303.294</td>\n",
       "      <td>3.7</td>\n",
       "      <td>99.086985</td>\n",
       "      <td>2</td>\n",
       "      <td>2023</td>\n",
       "      <td>2_2023</td>\n",
       "    </tr>\n",
       "    <tr>\n",
       "      <th>2023-06-01</th>\n",
       "      <td>77.6937</td>\n",
       "      <td>303.841</td>\n",
       "      <td>3.6</td>\n",
       "      <td>99.185852</td>\n",
       "      <td>2</td>\n",
       "      <td>2023</td>\n",
       "      <td>2_2023</td>\n",
       "    </tr>\n",
       "    <tr>\n",
       "      <th>2023-07-01</th>\n",
       "      <td>77.8633</td>\n",
       "      <td>304.348</td>\n",
       "      <td>3.5</td>\n",
       "      <td>99.293305</td>\n",
       "      <td>3</td>\n",
       "      <td>2023</td>\n",
       "      <td>3_2023</td>\n",
       "    </tr>\n",
       "    <tr>\n",
       "      <th>2023-08-01</th>\n",
       "      <td>77.8810</td>\n",
       "      <td>306.269</td>\n",
       "      <td>3.8</td>\n",
       "      <td>99.405487</td>\n",
       "      <td>3</td>\n",
       "      <td>2023</td>\n",
       "      <td>3_2023</td>\n",
       "    </tr>\n",
       "  </tbody>\n",
       "</table>\n",
       "<p>920 rows × 7 columns</p>\n",
       "</div>"
      ],
      "text/plain": [
       "            capacity_manuf      cpi  unemp  leadin_ind  quarter  year  q_year\n",
       "1947-01-01             NaN   21.480    NaN         NaN        1  1947  1_1947\n",
       "1947-02-01             NaN   21.620    NaN         NaN        1  1947  1_1947\n",
       "1947-03-01             NaN   22.000    NaN         NaN        1  1947  1_1947\n",
       "1947-04-01             NaN   22.000    NaN         NaN        2  1947  2_1947\n",
       "1947-05-01             NaN   21.950    NaN         NaN        2  1947  2_1947\n",
       "...                    ...      ...    ...         ...      ...   ...     ...\n",
       "2023-04-01         78.4065  302.918    3.4   99.016121        2  2023  2_2023\n",
       "2023-05-01         78.1317  303.294    3.7   99.086985        2  2023  2_2023\n",
       "2023-06-01         77.6937  303.841    3.6   99.185852        2  2023  2_2023\n",
       "2023-07-01         77.8633  304.348    3.5   99.293305        3  2023  3_2023\n",
       "2023-08-01         77.8810  306.269    3.8   99.405487        3  2023  3_2023\n",
       "\n",
       "[920 rows x 7 columns]"
      ]
     },
     "execution_count": 89,
     "metadata": {},
     "output_type": "execute_result"
    }
   ],
   "source": [
    "m_df"
   ]
  },
  {
   "cell_type": "code",
   "execution_count": 99,
   "id": "cc5c1207-9c53-4a21-a19a-f618ac64a641",
   "metadata": {},
   "outputs": [],
   "source": [
    "m_df_mean= m_df.groupby('q_year').mean()"
   ]
  },
  {
   "cell_type": "code",
   "execution_count": 101,
   "id": "0bb223c9-8555-4522-9a4a-312d456aaf3c",
   "metadata": {},
   "outputs": [
    {
     "data": {
      "text/html": [
       "<div>\n",
       "<style scoped>\n",
       "    .dataframe tbody tr th:only-of-type {\n",
       "        vertical-align: middle;\n",
       "    }\n",
       "\n",
       "    .dataframe tbody tr th {\n",
       "        vertical-align: top;\n",
       "    }\n",
       "\n",
       "    .dataframe thead th {\n",
       "        text-align: right;\n",
       "    }\n",
       "</style>\n",
       "<table border=\"1\" class=\"dataframe\">\n",
       "  <thead>\n",
       "    <tr style=\"text-align: right;\">\n",
       "      <th></th>\n",
       "      <th>capacity_manuf</th>\n",
       "      <th>cpi</th>\n",
       "      <th>unemp</th>\n",
       "      <th>leadin_ind</th>\n",
       "      <th>quarter</th>\n",
       "      <th>year</th>\n",
       "    </tr>\n",
       "    <tr>\n",
       "      <th>q_year</th>\n",
       "      <th></th>\n",
       "      <th></th>\n",
       "      <th></th>\n",
       "      <th></th>\n",
       "      <th></th>\n",
       "      <th></th>\n",
       "    </tr>\n",
       "  </thead>\n",
       "  <tbody>\n",
       "    <tr>\n",
       "      <th>3_1964</th>\n",
       "      <td>NaN</td>\n",
       "      <td>31.05</td>\n",
       "      <td>5.0</td>\n",
       "      <td>100.754607</td>\n",
       "      <td>3.0</td>\n",
       "      <td>1964.0</td>\n",
       "    </tr>\n",
       "  </tbody>\n",
       "</table>\n",
       "</div>"
      ],
      "text/plain": [
       "        capacity_manuf    cpi  unemp  leadin_ind  quarter    year\n",
       "q_year                                                           \n",
       "3_1964             NaN  31.05    5.0  100.754607      3.0  1964.0"
      ]
     },
     "execution_count": 101,
     "metadata": {},
     "output_type": "execute_result"
    }
   ],
   "source": [
    "m_df_mean.sort_values(by=['year','quarter'])\n",
    "m_df_mean.sample()"
   ]
  },
  {
   "cell_type": "code",
   "execution_count": 102,
   "id": "b8b047a0-96b2-414a-8d7e-7d564599498a",
   "metadata": {},
   "outputs": [],
   "source": [
    "d_df =[]\n",
    "\n",
    "for varname, var in d_series:\n",
    "    x = fred.get_series(var)\n",
    "    x.name = varname\n",
    "    x = pd.DataFrame(x)\n",
    "    d_df.append(x)\n",
    "\n",
    "d_df = pd.concat(d_df, axis=1)\n",
    "d_df['quarter'] = d_df.index.quarter\n",
    "d_df['year'] = d_df.index.year\n",
    "d_df['q_year'] = d_df['quarter'].astype(str) +'_'+ d_df['year'].astype(str)\n"
   ]
  },
  {
   "cell_type": "code",
   "execution_count": 104,
   "id": "eb2c9139-5ab5-4ddb-b012-608d85cdb83f",
   "metadata": {},
   "outputs": [
    {
     "data": {
      "text/html": [
       "<div>\n",
       "<style scoped>\n",
       "    .dataframe tbody tr th:only-of-type {\n",
       "        vertical-align: middle;\n",
       "    }\n",
       "\n",
       "    .dataframe tbody tr th {\n",
       "        vertical-align: top;\n",
       "    }\n",
       "\n",
       "    .dataframe thead th {\n",
       "        text-align: right;\n",
       "    }\n",
       "</style>\n",
       "<table border=\"1\" class=\"dataframe\">\n",
       "  <thead>\n",
       "    <tr style=\"text-align: right;\">\n",
       "      <th></th>\n",
       "      <th>fed_funds_rate</th>\n",
       "      <th>tbill_3</th>\n",
       "      <th>tbill_6</th>\n",
       "      <th>quarter</th>\n",
       "      <th>year</th>\n",
       "    </tr>\n",
       "    <tr>\n",
       "      <th>q_year</th>\n",
       "      <th></th>\n",
       "      <th></th>\n",
       "      <th></th>\n",
       "      <th></th>\n",
       "      <th></th>\n",
       "    </tr>\n",
       "  </thead>\n",
       "  <tbody>\n",
       "    <tr>\n",
       "      <th>4_2018</th>\n",
       "      <td>2.220109</td>\n",
       "      <td>2.310820</td>\n",
       "      <td>2.441148</td>\n",
       "      <td>4.0</td>\n",
       "      <td>2018.0</td>\n",
       "    </tr>\n",
       "    <tr>\n",
       "      <th>4_2019</th>\n",
       "      <td>1.645652</td>\n",
       "      <td>1.576935</td>\n",
       "      <td>1.573387</td>\n",
       "      <td>4.0</td>\n",
       "      <td>2019.0</td>\n",
       "    </tr>\n",
       "    <tr>\n",
       "      <th>4_2020</th>\n",
       "      <td>0.088804</td>\n",
       "      <td>0.092903</td>\n",
       "      <td>0.102742</td>\n",
       "      <td>4.0</td>\n",
       "      <td>2020.0</td>\n",
       "    </tr>\n",
       "    <tr>\n",
       "      <th>4_2021</th>\n",
       "      <td>0.079457</td>\n",
       "      <td>0.054677</td>\n",
       "      <td>0.095161</td>\n",
       "      <td>4.0</td>\n",
       "      <td>2021.0</td>\n",
       "    </tr>\n",
       "    <tr>\n",
       "      <th>4_2022</th>\n",
       "      <td>3.653370</td>\n",
       "      <td>4.043770</td>\n",
       "      <td>4.405246</td>\n",
       "      <td>4.0</td>\n",
       "      <td>2022.0</td>\n",
       "    </tr>\n",
       "  </tbody>\n",
       "</table>\n",
       "</div>"
      ],
      "text/plain": [
       "        fed_funds_rate   tbill_3   tbill_6  quarter    year\n",
       "q_year                                                     \n",
       "4_2018        2.220109  2.310820  2.441148      4.0  2018.0\n",
       "4_2019        1.645652  1.576935  1.573387      4.0  2019.0\n",
       "4_2020        0.088804  0.092903  0.102742      4.0  2020.0\n",
       "4_2021        0.079457  0.054677  0.095161      4.0  2021.0\n",
       "4_2022        3.653370  4.043770  4.405246      4.0  2022.0"
      ]
     },
     "execution_count": 104,
     "metadata": {},
     "output_type": "execute_result"
    }
   ],
   "source": [
    "d_df_mean= d_df.groupby('q_year').mean()\n",
    "d_df_mean.sort_values(by=['year','quarter'])\n",
    "d_df_mean.sample()\n",
    "d_df_mean.tail()"
   ]
  },
  {
   "cell_type": "code",
   "execution_count": 128,
   "id": "d0539116-c4a3-4257-a6f3-5b61c92939d1",
   "metadata": {},
   "outputs": [],
   "source": [
    "#merge datasets\n",
    "df0 = q_df.merge(m_df_mean, left_index=True, right_index=True, how='inner')\n",
    "df = df0.merge(d_df_mean, left_index=True, right_index=True, how='inner')\n"
   ]
  },
  {
   "cell_type": "code",
   "execution_count": 129,
   "id": "84e046b7-acbc-4f21-9f29-34a509440df5",
   "metadata": {},
   "outputs": [],
   "source": [
    "#clean data\n",
    "df.drop(columns=['quarter_x', 'year_x'], inplace=True)\n"
   ]
  },
  {
   "cell_type": "code",
   "execution_count": 130,
   "id": "a86574ae-b5a7-4188-8e92-ef04e68bc747",
   "metadata": {},
   "outputs": [],
   "source": [
    "df['quarter']= df['quarter'].astype(int)\n",
    "df['year']= df['year'].astype(int)"
   ]
  },
  {
   "cell_type": "code",
   "execution_count": 131,
   "id": "342a1c90-28dd-4ccd-9142-0bf1f0db7041",
   "metadata": {},
   "outputs": [],
   "source": [
    "## only include data starting 1972 when all the fields have data.\n",
    "df = df[df['year']>=1972]"
   ]
  },
  {
   "cell_type": "code",
   "execution_count": 126,
   "id": "a11d162b-84ab-415f-9b0f-363ae8aa36ec",
   "metadata": {},
   "outputs": [
    {
     "data": {
      "text/html": [
       "<div>\n",
       "<style scoped>\n",
       "    .dataframe tbody tr th:only-of-type {\n",
       "        vertical-align: middle;\n",
       "    }\n",
       "\n",
       "    .dataframe tbody tr th {\n",
       "        vertical-align: top;\n",
       "    }\n",
       "\n",
       "    .dataframe thead th {\n",
       "        text-align: right;\n",
       "    }\n",
       "</style>\n",
       "<table border=\"1\" class=\"dataframe\">\n",
       "  <thead>\n",
       "    <tr style=\"text-align: right;\">\n",
       "      <th></th>\n",
       "      <th>gdp</th>\n",
       "      <th>capacity_manuf</th>\n",
       "      <th>cpi</th>\n",
       "      <th>unemp</th>\n",
       "      <th>leadin_ind</th>\n",
       "      <th>quarter_y</th>\n",
       "      <th>year_y</th>\n",
       "      <th>fed_funds_rate</th>\n",
       "      <th>tbill_3</th>\n",
       "      <th>tbill_6</th>\n",
       "      <th>quarter</th>\n",
       "      <th>year</th>\n",
       "    </tr>\n",
       "    <tr>\n",
       "      <th>q_year</th>\n",
       "      <th></th>\n",
       "      <th></th>\n",
       "      <th></th>\n",
       "      <th></th>\n",
       "      <th></th>\n",
       "      <th></th>\n",
       "      <th></th>\n",
       "      <th></th>\n",
       "      <th></th>\n",
       "      <th></th>\n",
       "      <th></th>\n",
       "      <th></th>\n",
       "    </tr>\n",
       "  </thead>\n",
       "  <tbody>\n",
       "    <tr>\n",
       "      <th>1_1972</th>\n",
       "      <td>1266.369</td>\n",
       "      <td>81.730000</td>\n",
       "      <td>41.333333</td>\n",
       "      <td>5.766667</td>\n",
       "      <td>101.770549</td>\n",
       "      <td>1.0</td>\n",
       "      <td>1972.0</td>\n",
       "      <td>3.549011</td>\n",
       "      <td>3.445397</td>\n",
       "      <td>3.814603</td>\n",
       "      <td>1</td>\n",
       "      <td>1972</td>\n",
       "    </tr>\n",
       "    <tr>\n",
       "      <th>2_1972</th>\n",
       "      <td>1290.566</td>\n",
       "      <td>82.769833</td>\n",
       "      <td>41.600000</td>\n",
       "      <td>5.700000</td>\n",
       "      <td>102.354293</td>\n",
       "      <td>2.0</td>\n",
       "      <td>1972.0</td>\n",
       "      <td>4.301429</td>\n",
       "      <td>3.770938</td>\n",
       "      <td>4.232344</td>\n",
       "      <td>2</td>\n",
       "      <td>1972</td>\n",
       "    </tr>\n",
       "    <tr>\n",
       "      <th>3_1972</th>\n",
       "      <td>1328.904</td>\n",
       "      <td>83.237233</td>\n",
       "      <td>41.933333</td>\n",
       "      <td>5.566667</td>\n",
       "      <td>102.803953</td>\n",
       "      <td>3.0</td>\n",
       "      <td>1972.0</td>\n",
       "      <td>4.741413</td>\n",
       "      <td>4.210952</td>\n",
       "      <td>4.715397</td>\n",
       "      <td>3</td>\n",
       "      <td>1972</td>\n",
       "    </tr>\n",
       "    <tr>\n",
       "      <th>4_1972</th>\n",
       "      <td>1377.490</td>\n",
       "      <td>85.668433</td>\n",
       "      <td>42.366667</td>\n",
       "      <td>5.366667</td>\n",
       "      <td>103.297792</td>\n",
       "      <td>4.0</td>\n",
       "      <td>1972.0</td>\n",
       "      <td>5.145543</td>\n",
       "      <td>4.862833</td>\n",
       "      <td>5.173000</td>\n",
       "      <td>4</td>\n",
       "      <td>1972</td>\n",
       "    </tr>\n",
       "  </tbody>\n",
       "</table>\n",
       "</div>"
      ],
      "text/plain": [
       "             gdp  capacity_manuf        cpi     unemp  leadin_ind  quarter_y  \\\n",
       "q_year                                                                         \n",
       "1_1972  1266.369       81.730000  41.333333  5.766667  101.770549        1.0   \n",
       "2_1972  1290.566       82.769833  41.600000  5.700000  102.354293        2.0   \n",
       "3_1972  1328.904       83.237233  41.933333  5.566667  102.803953        3.0   \n",
       "4_1972  1377.490       85.668433  42.366667  5.366667  103.297792        4.0   \n",
       "\n",
       "        year_y  fed_funds_rate   tbill_3   tbill_6  quarter  year  \n",
       "q_year                                                             \n",
       "1_1972  1972.0        3.549011  3.445397  3.814603        1  1972  \n",
       "2_1972  1972.0        4.301429  3.770938  4.232344        2  1972  \n",
       "3_1972  1972.0        4.741413  4.210952  4.715397        3  1972  \n",
       "4_1972  1972.0        5.145543  4.862833  5.173000        4  1972  "
      ]
     },
     "execution_count": 126,
     "metadata": {},
     "output_type": "execute_result"
    }
   ],
   "source": [
    "df.head()"
   ]
  },
  {
   "cell_type": "code",
   "execution_count": 132,
   "id": "f5a76379-2435-4257-919a-30ddaa7d4c4c",
   "metadata": {},
   "outputs": [
    {
     "data": {
      "text/plain": [
       "(205, 12)"
      ]
     },
     "execution_count": 132,
     "metadata": {},
     "output_type": "execute_result"
    }
   ],
   "source": [
    "df.shape"
   ]
  },
  {
   "cell_type": "code",
   "execution_count": 136,
   "id": "f89d1e74-e60b-4cb0-b270-4eac8039d440",
   "metadata": {},
   "outputs": [],
   "source": [
    "df.to_csv(\"data.csv\")"
   ]
  },
  {
   "cell_type": "code",
   "execution_count": 134,
   "id": "dd6a287b-6c69-481b-b472-f201ea836c62",
   "metadata": {},
   "outputs": [
    {
     "data": {
      "text/plain": [
       "<module 'ntpath' from 'C:\\\\Users\\\\shery\\\\anaconda3\\\\lib\\\\ntpath.py'>"
      ]
     },
     "execution_count": 134,
     "metadata": {},
     "output_type": "execute_result"
    }
   ],
   "source": [
    "os.path"
   ]
  },
  {
   "cell_type": "code",
   "execution_count": null,
   "id": "41ab1893-a9e2-4156-a31b-ddc6f2a1b393",
   "metadata": {},
   "outputs": [],
   "source": []
  }
 ],
 "metadata": {
  "kernelspec": {
   "display_name": "Python 3 (ipykernel)",
   "language": "python",
   "name": "python3"
  },
  "language_info": {
   "codemirror_mode": {
    "name": "ipython",
    "version": 3
   },
   "file_extension": ".py",
   "mimetype": "text/x-python",
   "name": "python",
   "nbconvert_exporter": "python",
   "pygments_lexer": "ipython3",
   "version": "3.8.8"
  }
 },
 "nbformat": 4,
 "nbformat_minor": 5
}
