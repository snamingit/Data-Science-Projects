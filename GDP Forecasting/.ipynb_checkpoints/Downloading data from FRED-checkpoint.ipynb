{
 "cells": [
  {
   "cell_type": "code",
   "execution_count": 3,
   "id": "4b773d36-2ede-47f4-bf39-22a1e36d45b5",
   "metadata": {},
   "outputs": [
    {
     "name": "stdout",
     "output_type": "stream",
     "text": [
      "Requirement already satisfied: fredapi in c:\\users\\shery\\appdata\\roaming\\python\\python38\\site-packages (0.5.1)\n",
      "Requirement already satisfied: pandas in c:\\users\\shery\\anaconda3\\lib\\site-packages (from fredapi) (1.5.3)\n",
      "Requirement already satisfied: python-dateutil>=2.8.1 in c:\\users\\shery\\anaconda3\\lib\\site-packages (from pandas->fredapi) (2.8.2)\n",
      "Requirement already satisfied: pytz>=2020.1 in c:\\users\\shery\\anaconda3\\lib\\site-packages (from pandas->fredapi) (2023.3)\n",
      "Requirement already satisfied: numpy>=1.20.3 in c:\\users\\shery\\appdata\\roaming\\python\\python38\\site-packages (from pandas->fredapi) (1.24.4)\n",
      "Requirement already satisfied: six>=1.5 in c:\\users\\shery\\anaconda3\\lib\\site-packages (from python-dateutil>=2.8.1->pandas->fredapi) (1.16.0)\n"
     ]
    }
   ],
   "source": [
    "!pip install fredapi --user"
   ]
  },
  {
   "cell_type": "code",
   "execution_count": 4,
   "id": "ebc69f5a-ac73-45c8-8c6f-2ddfed4d1298",
   "metadata": {},
   "outputs": [],
   "source": [
    "import os"
   ]
  },
  {
   "cell_type": "code",
   "execution_count": 5,
   "id": "1817f00e-62c2-4a28-a7e1-0ae197302012",
   "metadata": {},
   "outputs": [],
   "source": [
    "os.chdir('C:/Users/shery/OneDrive/Desktop/Anaconda/fred')"
   ]
  },
  {
   "cell_type": "code",
   "execution_count": 6,
   "id": "0bcdd806-110f-4e2c-ae5b-e31588ce2190",
   "metadata": {},
   "outputs": [],
   "source": [
    "import fredapi as fa\n",
    "import pandas as pd\n",
    "from local_settings import fred as settings\n",
    "fred = fa.Fred(settings['api_key'])\n",
    "#fred = fa.Fred(api_key='5489f319e26fb588e8fb9425b78e475b')\n"
   ]
  },
  {
   "cell_type": "code",
   "execution_count": 42,
   "id": "8d450a8a-ff5e-4463-9508-2b5b02ee09e3",
   "metadata": {},
   "outputs": [],
   "source": [
    "#list of quarterly, monthly, & daily series\n",
    "q_series = [('gdp','GDP')] \n",
    "m_series = [('capacity_manuf','MCUMFN'),('cpi','CPIAUCSL'),('unemp','UNRATE'),('leadin_ind','USALOLITONOSTSAM')]\n",
    "d_series = [('fed_funds_rate','DFF'),('tbill_3','DTB3'),('tbill_6','DTB6')]"
   ]
  },
  {
   "cell_type": "markdown",
   "id": "fa0a3286-2978-4816-b828-15ed183d0d65",
   "metadata": {},
   "source": [
    "Get all the quarterly series"
   ]
  },
  {
   "cell_type": "code",
   "execution_count": 44,
   "id": "39b55044-4c90-4614-a9fc-4d0c0166e50b",
   "metadata": {},
   "outputs": [],
   "source": [
    "q_df =[]\n",
    "\n",
    "for varname, var in q_series:\n",
    "    x = fred.get_series(var)\n",
    "    x.name = varname\n",
    "    x = pd.DataFrame(x)\n",
    "    q_df.append(x)\n",
    "\n",
    "q_df = pd.concat(q_df, axis=1)"
   ]
  },
  {
   "cell_type": "code",
   "execution_count": 45,
   "id": "c873adc2-06ba-43dc-bcb9-72b0d1e86ac0",
   "metadata": {},
   "outputs": [
    {
     "data": {
      "text/html": [
       "<div>\n",
       "<style scoped>\n",
       "    .dataframe tbody tr th:only-of-type {\n",
       "        vertical-align: middle;\n",
       "    }\n",
       "\n",
       "    .dataframe tbody tr th {\n",
       "        vertical-align: top;\n",
       "    }\n",
       "\n",
       "    .dataframe thead th {\n",
       "        text-align: right;\n",
       "    }\n",
       "</style>\n",
       "<table border=\"1\" class=\"dataframe\">\n",
       "  <thead>\n",
       "    <tr style=\"text-align: right;\">\n",
       "      <th></th>\n",
       "      <th>gdp</th>\n",
       "    </tr>\n",
       "  </thead>\n",
       "  <tbody>\n",
       "    <tr>\n",
       "      <th>2022-04-01</th>\n",
       "      <td>25248.476</td>\n",
       "    </tr>\n",
       "    <tr>\n",
       "      <th>2022-07-01</th>\n",
       "      <td>25723.941</td>\n",
       "    </tr>\n",
       "    <tr>\n",
       "      <th>2022-10-01</th>\n",
       "      <td>26137.992</td>\n",
       "    </tr>\n",
       "    <tr>\n",
       "      <th>2023-01-01</th>\n",
       "      <td>26529.774</td>\n",
       "    </tr>\n",
       "    <tr>\n",
       "      <th>2023-04-01</th>\n",
       "      <td>26798.605</td>\n",
       "    </tr>\n",
       "  </tbody>\n",
       "</table>\n",
       "</div>"
      ],
      "text/plain": [
       "                  gdp\n",
       "2022-04-01  25248.476\n",
       "2022-07-01  25723.941\n",
       "2022-10-01  26137.992\n",
       "2023-01-01  26529.774\n",
       "2023-04-01  26798.605"
      ]
     },
     "execution_count": 45,
     "metadata": {},
     "output_type": "execute_result"
    }
   ],
   "source": [
    "q_df.tail()"
   ]
  },
  {
   "cell_type": "markdown",
   "id": "b913f798-d8ef-4f94-a3be-656fb9171414",
   "metadata": {},
   "source": [
    "Get all the monthly series"
   ]
  },
  {
   "cell_type": "code",
   "execution_count": 39,
   "id": "44ba8025-df09-4889-97a7-ec74462717d8",
   "metadata": {},
   "outputs": [],
   "source": [
    "m_df =[]\n",
    "\n",
    "for varname, var in m_series:\n",
    "    x = fred.get_series(var)\n",
    "    x.name = varname\n",
    "    x = pd.DataFrame(x)\n",
    "    m_df.append(x)\n",
    "\n",
    "m_df = pd.concat(m_df, axis=1)"
   ]
  },
  {
   "cell_type": "code",
   "execution_count": 40,
   "id": "0bb223c9-8555-4522-9a4a-312d456aaf3c",
   "metadata": {},
   "outputs": [
    {
     "data": {
      "text/html": [
       "<div>\n",
       "<style scoped>\n",
       "    .dataframe tbody tr th:only-of-type {\n",
       "        vertical-align: middle;\n",
       "    }\n",
       "\n",
       "    .dataframe tbody tr th {\n",
       "        vertical-align: top;\n",
       "    }\n",
       "\n",
       "    .dataframe thead th {\n",
       "        text-align: right;\n",
       "    }\n",
       "</style>\n",
       "<table border=\"1\" class=\"dataframe\">\n",
       "  <thead>\n",
       "    <tr style=\"text-align: right;\">\n",
       "      <th></th>\n",
       "      <th>capacity_manuf</th>\n",
       "      <th>cpi</th>\n",
       "      <th>unemp</th>\n",
       "    </tr>\n",
       "  </thead>\n",
       "  <tbody>\n",
       "    <tr>\n",
       "      <th>2023-04-01</th>\n",
       "      <td>78.4065</td>\n",
       "      <td>302.918</td>\n",
       "      <td>3.4</td>\n",
       "    </tr>\n",
       "    <tr>\n",
       "      <th>2023-05-01</th>\n",
       "      <td>78.1317</td>\n",
       "      <td>303.294</td>\n",
       "      <td>3.7</td>\n",
       "    </tr>\n",
       "    <tr>\n",
       "      <th>2023-06-01</th>\n",
       "      <td>77.6937</td>\n",
       "      <td>303.841</td>\n",
       "      <td>3.6</td>\n",
       "    </tr>\n",
       "    <tr>\n",
       "      <th>2023-07-01</th>\n",
       "      <td>77.8633</td>\n",
       "      <td>304.348</td>\n",
       "      <td>3.5</td>\n",
       "    </tr>\n",
       "    <tr>\n",
       "      <th>2023-08-01</th>\n",
       "      <td>77.8810</td>\n",
       "      <td>306.269</td>\n",
       "      <td>3.8</td>\n",
       "    </tr>\n",
       "  </tbody>\n",
       "</table>\n",
       "</div>"
      ],
      "text/plain": [
       "            capacity_manuf      cpi  unemp\n",
       "2023-04-01         78.4065  302.918    3.4\n",
       "2023-05-01         78.1317  303.294    3.7\n",
       "2023-06-01         77.6937  303.841    3.6\n",
       "2023-07-01         77.8633  304.348    3.5\n",
       "2023-08-01         77.8810  306.269    3.8"
      ]
     },
     "execution_count": 40,
     "metadata": {},
     "output_type": "execute_result"
    }
   ],
   "source": [
    "m_df.tail()"
   ]
  },
  {
   "cell_type": "code",
   "execution_count": 35,
   "id": "b8b047a0-96b2-414a-8d7e-7d564599498a",
   "metadata": {},
   "outputs": [],
   "source": [
    "d_df =[]\n",
    "\n",
    "for varname, var in d_series:\n",
    "    x = fred.get_series(var)\n",
    "    x.name = varname\n",
    "    x = pd.DataFrame(x)\n",
    "    d_df.append(x)\n",
    "\n",
    "d_df = pd.concat(d_df, axis=1)"
   ]
  },
  {
   "cell_type": "code",
   "execution_count": 36,
   "id": "eb2c9139-5ab5-4ddb-b012-608d85cdb83f",
   "metadata": {},
   "outputs": [
    {
     "data": {
      "text/html": [
       "<div>\n",
       "<style scoped>\n",
       "    .dataframe tbody tr th:only-of-type {\n",
       "        vertical-align: middle;\n",
       "    }\n",
       "\n",
       "    .dataframe tbody tr th {\n",
       "        vertical-align: top;\n",
       "    }\n",
       "\n",
       "    .dataframe thead th {\n",
       "        text-align: right;\n",
       "    }\n",
       "</style>\n",
       "<table border=\"1\" class=\"dataframe\">\n",
       "  <thead>\n",
       "    <tr style=\"text-align: right;\">\n",
       "      <th></th>\n",
       "      <th>fed_funds_rate</th>\n",
       "      <th>tbill_3</th>\n",
       "      <th>tbill_6</th>\n",
       "    </tr>\n",
       "  </thead>\n",
       "  <tbody>\n",
       "    <tr>\n",
       "      <th>2023-09-14</th>\n",
       "      <td>5.33</td>\n",
       "      <td>5.31</td>\n",
       "      <td>5.29</td>\n",
       "    </tr>\n",
       "    <tr>\n",
       "      <th>2023-09-15</th>\n",
       "      <td>5.33</td>\n",
       "      <td>5.32</td>\n",
       "      <td>5.29</td>\n",
       "    </tr>\n",
       "    <tr>\n",
       "      <th>2023-09-16</th>\n",
       "      <td>5.33</td>\n",
       "      <td>NaN</td>\n",
       "      <td>NaN</td>\n",
       "    </tr>\n",
       "    <tr>\n",
       "      <th>2023-09-17</th>\n",
       "      <td>5.33</td>\n",
       "      <td>NaN</td>\n",
       "      <td>NaN</td>\n",
       "    </tr>\n",
       "    <tr>\n",
       "      <th>2023-09-18</th>\n",
       "      <td>5.33</td>\n",
       "      <td>5.31</td>\n",
       "      <td>5.30</td>\n",
       "    </tr>\n",
       "  </tbody>\n",
       "</table>\n",
       "</div>"
      ],
      "text/plain": [
       "            fed_funds_rate  tbill_3  tbill_6\n",
       "2023-09-14            5.33     5.31     5.29\n",
       "2023-09-15            5.33     5.32     5.29\n",
       "2023-09-16            5.33      NaN      NaN\n",
       "2023-09-17            5.33      NaN      NaN\n",
       "2023-09-18            5.33     5.31     5.30"
      ]
     },
     "execution_count": 36,
     "metadata": {},
     "output_type": "execute_result"
    }
   ],
   "source": [
    "d_df.tail()"
   ]
  },
  {
   "cell_type": "code",
   "execution_count": null,
   "id": "342a1c90-28dd-4ccd-9142-0bf1f0db7041",
   "metadata": {},
   "outputs": [],
   "source": [
    "#clean data"
   ]
  },
  {
   "cell_type": "code",
   "execution_count": 9,
   "id": "45ede677-a382-400d-bd1a-7cf1ec47b518",
   "metadata": {},
   "outputs": [],
   "source": []
  },
  {
   "cell_type": "code",
   "execution_count": null,
   "id": "f5a76379-2435-4257-919a-30ddaa7d4c4c",
   "metadata": {},
   "outputs": [],
   "source": []
  },
  {
   "cell_type": "code",
   "execution_count": null,
   "id": "f89d1e74-e60b-4cb0-b270-4eac8039d440",
   "metadata": {},
   "outputs": [],
   "source": []
  }
 ],
 "metadata": {
  "kernelspec": {
   "display_name": "Python 3 (ipykernel)",
   "language": "python",
   "name": "python3"
  },
  "language_info": {
   "codemirror_mode": {
    "name": "ipython",
    "version": 3
   },
   "file_extension": ".py",
   "mimetype": "text/x-python",
   "name": "python",
   "nbconvert_exporter": "python",
   "pygments_lexer": "ipython3",
   "version": "3.8.8"
  }
 },
 "nbformat": 4,
 "nbformat_minor": 5
}
